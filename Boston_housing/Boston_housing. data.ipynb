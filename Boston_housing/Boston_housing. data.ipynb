{
 "cells": [
  {
   "cell_type": "code",
   "execution_count": 1,
   "id": "ed0cbca4-ee44-40b1-ae24-8dcac7d9785f",
   "metadata": {},
   "outputs": [],
   "source": [
    "import pandas as pd"
   ]
  },
  {
   "cell_type": "code",
   "execution_count": 2,
   "id": "0a16f20a-c302-4ce6-8c97-c15a38573082",
   "metadata": {},
   "outputs": [],
   "source": [
    "df=pd.read_csv(\"Boston_housing.data\", delim_whitespace=True,header=None)\n",
    "col_name=['CRIM','ZN','INDUS','CHAS','NOX','RM','AGE','DIS','RAD','TAX','PTRATIO','B','LSTAT','MEDV'] \n",
    "df.columns=col_name "
   ]
  },
  {
   "cell_type": "code",
   "execution_count": 3,
   "id": "39dffaf6-8cae-435e-88c5-b6ff0cc5c989",
   "metadata": {},
   "outputs": [
    {
     "name": "stdout",
     "output_type": "stream",
     "text": [
      "      CRIM    ZN  INDUS  CHAS    NOX     RM   AGE     DIS  RAD    TAX  \\\n",
      "0  0.00632  18.0   2.31     0  0.538  6.575  65.2  4.0900    1  296.0   \n",
      "1  0.02731   0.0   7.07     0  0.469  6.421  78.9  4.9671    2  242.0   \n",
      "2  0.02729   0.0   7.07     0  0.469  7.185  61.1  4.9671    2  242.0   \n",
      "3  0.03237   0.0   2.18     0  0.458  6.998  45.8  6.0622    3  222.0   \n",
      "4  0.06905   0.0   2.18     0  0.458  7.147  54.2  6.0622    3  222.0   \n",
      "\n",
      "   PTRATIO       B  LSTAT  MEDV  \n",
      "0     15.3  396.90   4.98  24.0  \n",
      "1     17.8  396.90   9.14  21.6  \n",
      "2     17.8  392.83   4.03  34.7  \n",
      "3     18.7  394.63   2.94  33.4  \n",
      "4     18.7  396.90   5.33  36.2  \n",
      "        CRIM   ZN  INDUS  CHAS    NOX     RM   AGE     DIS  RAD    TAX  \\\n",
      "501  0.06263  0.0  11.93     0  0.573  6.593  69.1  2.4786    1  273.0   \n",
      "502  0.04527  0.0  11.93     0  0.573  6.120  76.7  2.2875    1  273.0   \n",
      "503  0.06076  0.0  11.93     0  0.573  6.976  91.0  2.1675    1  273.0   \n",
      "504  0.10959  0.0  11.93     0  0.573  6.794  89.3  2.3889    1  273.0   \n",
      "505  0.04741  0.0  11.93     0  0.573  6.030  80.8  2.5050    1  273.0   \n",
      "\n",
      "     PTRATIO       B  LSTAT  MEDV  \n",
      "501     21.0  391.99   9.67  22.4  \n",
      "502     21.0  396.90   9.08  20.6  \n",
      "503     21.0  396.90   5.64  23.9  \n",
      "504     21.0  393.45   6.48  22.0  \n",
      "505     21.0  396.90   7.88  11.9  \n",
      "7084\n",
      "(506, 14)\n",
      "<class 'pandas.core.frame.DataFrame'>\n",
      "RangeIndex: 506 entries, 0 to 505\n",
      "Data columns (total 14 columns):\n",
      " #   Column   Non-Null Count  Dtype  \n",
      "---  ------   --------------  -----  \n",
      " 0   CRIM     506 non-null    float64\n",
      " 1   ZN       506 non-null    float64\n",
      " 2   INDUS    506 non-null    float64\n",
      " 3   CHAS     506 non-null    int64  \n",
      " 4   NOX      506 non-null    float64\n",
      " 5   RM       506 non-null    float64\n",
      " 6   AGE      506 non-null    float64\n",
      " 7   DIS      506 non-null    float64\n",
      " 8   RAD      506 non-null    int64  \n",
      " 9   TAX      506 non-null    float64\n",
      " 10  PTRATIO  506 non-null    float64\n",
      " 11  B        506 non-null    float64\n",
      " 12  LSTAT    506 non-null    float64\n",
      " 13  MEDV     506 non-null    float64\n",
      "dtypes: float64(12), int64(2)\n",
      "memory usage: 55.5 KB\n",
      "None\n"
     ]
    }
   ],
   "source": [
    "print(df.head())\n",
    "print(df.tail())\n",
    "print(df.size)\n",
    "print(df.shape)\n",
    "print(df.info())"
   ]
  },
  {
   "cell_type": "code",
   "execution_count": 4,
   "id": "b1213c8c-f4bc-4a7f-bc7d-f5dc6ddc7661",
   "metadata": {},
   "outputs": [
    {
     "name": "stdout",
     "output_type": "stream",
     "text": [
      "R2_train=  0.4919898320352557 \n",
      "R2_test=  0.4579266676955216\n"
     ]
    }
   ],
   "source": [
    "x= df['RM'].values.reshape(-1,1)\n",
    "y= df['MEDV'].values\n",
    "from sklearn.model_selection import train_test_split\n",
    "X_train,X_test,y_train,y_test= train_test_split(x,y,test_size=0.2,random_state=40)\n",
    "from sklearn.linear_model import LinearRegression\n",
    "LR=LinearRegression()\n",
    "LR.fit(X_train,y_train)\n",
    "y_train_pred= LR.predict(X_train)\n",
    "y_test_pred= LR.predict(X_test)\n",
    "from sklearn.metrics import r2_score\n",
    "train=r2_score(y_train,y_train_pred)\n",
    "test=r2_score(y_test,y_test_pred)\n",
    "print('R2_train= ',train,'\\nR2_test= ',test)"
   ]
  },
  {
   "cell_type": "code",
   "execution_count": 5,
   "id": "38464a55-049b-4950-8f7d-b5c2962a7b63",
   "metadata": {},
   "outputs": [
    {
     "name": "stdout",
     "output_type": "stream",
     "text": [
      "R2_train=  0.5488658293357169 \n",
      "R2_test=  0.5185746141437988\n"
     ]
    }
   ],
   "source": [
    "x= df['LSTAT'].values.reshape(-1,1)\n",
    "y= df['MEDV'].values\n",
    "from sklearn.model_selection import train_test_split\n",
    "X_train,X_test,y_train,y_test= train_test_split(x,y,test_size=0.2,random_state=40)\n",
    "from sklearn.linear_model import LinearRegression\n",
    "LR1=LinearRegression()\n",
    "LR1.fit(X_train,y_train)\n",
    "y_train_pred= LR1.predict(X_train)\n",
    "y_test_pred= LR1.predict(X_test)\n",
    "from sklearn.metrics import r2_score\n",
    "train=r2_score(y_train,y_train_pred)\n",
    "test=r2_score(y_test,y_test_pred)\n",
    "print('R2_train= ',train,'\\nR2_test= ',test)"
   ]
  },
  {
   "cell_type": "code",
   "execution_count": 6,
   "id": "02e6f145-b39b-4c24-8325-70642c9a8b33",
   "metadata": {},
   "outputs": [
    {
     "name": "stdout",
     "output_type": "stream",
     "text": [
      "R2_train=  0.6549144024511813 \n",
      "R2_test=  0.5830671543115344\n"
     ]
    }
   ],
   "source": [
    "x= df[['RM','LSTAT']].values\n",
    "y= df['MEDV'].values\n",
    "from sklearn.model_selection import train_test_split\n",
    "X_train,X_test,y_train,y_test= train_test_split(x,y,test_size=0.2,random_state=40)\n",
    "from sklearn.linear_model import LinearRegression\n",
    "LR2=LinearRegression()\n",
    "LR2.fit(X_train,y_train)\n",
    "y_train_pred= LR2.predict(X_train)\n",
    "y_test_pred= LR2.predict(X_test)\n",
    "from sklearn.metrics import r2_score\n",
    "train=r2_score(y_train,y_train_pred)\n",
    "test=r2_score(y_test,y_test_pred)\n",
    "print('R2_train= ',train,'\\nR2_test= ',test)"
   ]
  },
  {
   "cell_type": "code",
   "execution_count": 14,
   "id": "5e930700-b13f-488f-96df-ea09375075ad",
   "metadata": {},
   "outputs": [
    {
     "name": "stdout",
     "output_type": "stream",
     "text": [
      "R2_train=  0.7501736684619289 \n",
      "R2_test=  0.7009532387355557\n"
     ]
    }
   ],
   "source": [
    "x=df.drop('MEDV',axis=1)\n",
    "y= df['MEDV'].values\n",
    "from sklearn.model_selection import train_test_split\n",
    "X_train,X_test,y_train,y_test= train_test_split(x,y,test_size=0.2,random_state=40)\n",
    "from sklearn.linear_model import LinearRegression\n",
    "LR3=LinearRegression()\n",
    "LR3.fit(X_train,y_train)\n",
    "y_train_pred= LR3.predict(X_train)\n",
    "y_test_pred= LR3.predict(X_test)\n",
    "from sklearn.metrics import r2_score\n",
    "train=r2_score(y_train,y_train_pred)\n",
    "test=r2_score(y_test,y_test_pred)\n",
    "print('R2_train= ',train,'\\nR2_test= ',test)"
   ]
  },
  {
   "cell_type": "code",
   "execution_count": 20,
   "id": "4a8661ea-595f-47c7-a464-9f0aa49dbf49",
   "metadata": {},
   "outputs": [
    {
     "name": "stdout",
     "output_type": "stream",
     "text": [
      "    feature        VIF\n",
      "0      CRIM   2.100373\n",
      "1        ZN   2.844013\n",
      "2     INDUS  14.485758\n",
      "3      CHAS   1.152952\n",
      "4       NOX  73.894947\n",
      "5        RM  77.948283\n",
      "6       AGE  21.386850\n",
      "7       DIS  14.699652\n",
      "8       RAD  15.167725\n",
      "9       TAX  61.227274\n",
      "10  PTRATIO  85.029547\n",
      "11        B  20.104943\n",
      "12    LSTAT  11.102025\n"
     ]
    }
   ],
   "source": [
    "x=df[['CRIM','ZN','INDUS','CHAS','NOX','RM','AGE','DIS','RAD','TAX','PTRATIO','B','LSTAT'] ]\n",
    "from statsmodels.stats.outliers_influence import variance_inflation_factor\n",
    "# VIF dataframe\n",
    "vif_data= pd.DataFrame()\n",
    "vif_data[\"feature\"]=x.columns\n",
    "\n",
    "# Calculating VIF for each feature\n",
    "vif_data['VIF']=[variance_inflation_factor(x.values,i) for i in range(len(x.columns))]\n",
    "print(vif_data)"
   ]
  },
  {
   "cell_type": "code",
   "execution_count": null,
   "id": "9f409986-554f-4c26-861c-691a82712677",
   "metadata": {},
   "outputs": [],
   "source": []
  }
 ],
 "metadata": {
  "kernelspec": {
   "display_name": "Python 3 (ipykernel)",
   "language": "python",
   "name": "python3"
  },
  "language_info": {
   "codemirror_mode": {
    "name": "ipython",
    "version": 3
   },
   "file_extension": ".py",
   "mimetype": "text/x-python",
   "name": "python",
   "nbconvert_exporter": "python",
   "pygments_lexer": "ipython3",
   "version": "3.11.5"
  }
 },
 "nbformat": 4,
 "nbformat_minor": 5
}
